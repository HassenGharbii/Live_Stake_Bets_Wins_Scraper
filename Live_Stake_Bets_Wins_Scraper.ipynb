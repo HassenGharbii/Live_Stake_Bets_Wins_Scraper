{
 "cells": [
  {
   "cell_type": "code",
   "execution_count": 20,
   "metadata": {},
   "outputs": [],
   "source": [
    "import pandas as pd "
   ]
  },
  {
   "attachments": {},
   "cell_type": "markdown",
   "metadata": {},
   "source": [
    "**Import data to csv**"
   ]
  },
  {
   "cell_type": "code",
   "execution_count": 21,
   "metadata": {},
   "outputs": [],
   "source": [
    "df=pd.read_csv(r\"stake.csv\")"
   ]
  },
  {
   "attachments": {},
   "cell_type": "markdown",
   "metadata": {},
   "source": [
    "**dataframe of stakes data**"
   ]
  },
  {
   "cell_type": "code",
   "execution_count": 22,
   "metadata": {},
   "outputs": [
    {
     "data": {
      "text/html": [
       "<div>\n",
       "<style scoped>\n",
       "    .dataframe tbody tr th:only-of-type {\n",
       "        vertical-align: middle;\n",
       "    }\n",
       "\n",
       "    .dataframe tbody tr th {\n",
       "        vertical-align: top;\n",
       "    }\n",
       "\n",
       "    .dataframe thead th {\n",
       "        text-align: right;\n",
       "    }\n",
       "</style>\n",
       "<table border=\"1\" class=\"dataframe\">\n",
       "  <thead>\n",
       "    <tr style=\"text-align: right;\">\n",
       "      <th></th>\n",
       "      <th>Unnamed: 0</th>\n",
       "      <th>Game</th>\n",
       "      <th>User</th>\n",
       "      <th>Time</th>\n",
       "      <th>Bet Amount</th>\n",
       "      <th>Multiplier</th>\n",
       "      <th>Payout</th>\n",
       "    </tr>\n",
       "  </thead>\n",
       "  <tbody>\n",
       "    <tr>\n",
       "      <th>0</th>\n",
       "      <td>0</td>\n",
       "      <td>NaN</td>\n",
       "      <td>NaN</td>\n",
       "      <td>NaN</td>\n",
       "      <td>NaN</td>\n",
       "      <td>NaN</td>\n",
       "      <td>NaN</td>\n",
       "    </tr>\n",
       "    <tr>\n",
       "      <th>1</th>\n",
       "      <td>1</td>\n",
       "      <td>Gates of Olympus</td>\n",
       "      <td>Hidden</td>\n",
       "      <td>2:40 PM</td>\n",
       "      <td>0.00147523</td>\n",
       "      <td>406.68×</td>\n",
       "      <td>0.59994835</td>\n",
       "    </tr>\n",
       "    <tr>\n",
       "      <th>2</th>\n",
       "      <td>2</td>\n",
       "      <td>Limbo</td>\n",
       "      <td>Hidden</td>\n",
       "      <td>2:40 PM</td>\n",
       "      <td>0.80780608</td>\n",
       "      <td>1.42×</td>\n",
       "      <td>1.14708463</td>\n",
       "    </tr>\n",
       "    <tr>\n",
       "      <th>3</th>\n",
       "      <td>3</td>\n",
       "      <td>Speed Roulette</td>\n",
       "      <td>Hidden</td>\n",
       "      <td>2:40 PM</td>\n",
       "      <td>1000.0</td>\n",
       "      <td>3.42×</td>\n",
       "      <td>3420.0</td>\n",
       "    </tr>\n",
       "    <tr>\n",
       "      <th>4</th>\n",
       "      <td>4</td>\n",
       "      <td>No Commission Speed Baccarat C</td>\n",
       "      <td>Hidden</td>\n",
       "      <td>2:40 PM</td>\n",
       "      <td>2796.14496</td>\n",
       "      <td>2.00×</td>\n",
       "      <td>5592.28992</td>\n",
       "    </tr>\n",
       "    <tr>\n",
       "      <th>...</th>\n",
       "      <td>...</td>\n",
       "      <td>...</td>\n",
       "      <td>...</td>\n",
       "      <td>...</td>\n",
       "      <td>...</td>\n",
       "      <td>...</td>\n",
       "      <td>...</td>\n",
       "    </tr>\n",
       "    <tr>\n",
       "      <th>9147</th>\n",
       "      <td>9147</td>\n",
       "      <td>Live - Speed Baccarat 12</td>\n",
       "      <td>Hidden</td>\n",
       "      <td>1:59 PM</td>\n",
       "      <td>2000.00000000</td>\n",
       "      <td>2.00×</td>\n",
       "      <td>4000.00000000</td>\n",
       "    </tr>\n",
       "    <tr>\n",
       "      <th>9148</th>\n",
       "      <td>9148</td>\n",
       "      <td>Wild West Duels</td>\n",
       "      <td>Hidden</td>\n",
       "      <td>1:59 PM</td>\n",
       "      <td>0.32105999</td>\n",
       "      <td>28.75×</td>\n",
       "      <td>9.23047484</td>\n",
       "    </tr>\n",
       "    <tr>\n",
       "      <th>9149</th>\n",
       "      <td>9149</td>\n",
       "      <td>Plinko</td>\n",
       "      <td>Hidden</td>\n",
       "      <td>1:59 PM</td>\n",
       "      <td>10.00000000</td>\n",
       "      <td>130.00×</td>\n",
       "      <td>1300.00000000</td>\n",
       "    </tr>\n",
       "    <tr>\n",
       "      <th>9150</th>\n",
       "      <td>9150</td>\n",
       "      <td>Fruit Party 2</td>\n",
       "      <td>Hidden</td>\n",
       "      <td>1:59 PM</td>\n",
       "      <td>10.69800011</td>\n",
       "      <td>1.15×</td>\n",
       "      <td>12.29735113</td>\n",
       "    </tr>\n",
       "    <tr>\n",
       "      <th>9151</th>\n",
       "      <td>9151</td>\n",
       "      <td>Speed Baccarat T</td>\n",
       "      <td>Hidden</td>\n",
       "      <td>1:59 PM</td>\n",
       "      <td>2000.00000000</td>\n",
       "      <td>0.00×</td>\n",
       "      <td>-2000.00000000</td>\n",
       "    </tr>\n",
       "  </tbody>\n",
       "</table>\n",
       "<p>9152 rows × 7 columns</p>\n",
       "</div>"
      ],
      "text/plain": [
       "      Unnamed: 0                            Game    User     Time  \\\n",
       "0              0                             NaN     NaN      NaN   \n",
       "1              1                Gates of Olympus  Hidden  2:40 PM   \n",
       "2              2                           Limbo  Hidden  2:40 PM   \n",
       "3              3                  Speed Roulette  Hidden  2:40 PM   \n",
       "4              4  No Commission Speed Baccarat C  Hidden  2:40 PM   \n",
       "...          ...                             ...     ...      ...   \n",
       "9147        9147        Live - Speed Baccarat 12  Hidden  1:59 PM   \n",
       "9148        9148                 Wild West Duels  Hidden  1:59 PM   \n",
       "9149        9149                          Plinko  Hidden  1:59 PM   \n",
       "9150        9150                   Fruit Party 2  Hidden  1:59 PM   \n",
       "9151        9151                Speed Baccarat T  Hidden  1:59 PM   \n",
       "\n",
       "         Bet Amount Multiplier          Payout  \n",
       "0               NaN        NaN             NaN  \n",
       "1        0.00147523    406.68×      0.59994835  \n",
       "2        0.80780608      1.42×      1.14708463  \n",
       "3            1000.0      3.42×          3420.0  \n",
       "4        2796.14496      2.00×      5592.28992  \n",
       "...             ...        ...             ...  \n",
       "9147  2000.00000000      2.00×   4000.00000000  \n",
       "9148     0.32105999     28.75×      9.23047484  \n",
       "9149    10.00000000    130.00×   1300.00000000  \n",
       "9150    10.69800011      1.15×     12.29735113  \n",
       "9151  2000.00000000      0.00×  -2000.00000000  \n",
       "\n",
       "[9152 rows x 7 columns]"
      ]
     },
     "execution_count": 22,
     "metadata": {},
     "output_type": "execute_result"
    }
   ],
   "source": [
    "df"
   ]
  },
  {
   "attachments": {},
   "cell_type": "markdown",
   "metadata": {},
   "source": [
    "**drop Unnamed: 0 column**"
   ]
  },
  {
   "cell_type": "code",
   "execution_count": 23,
   "metadata": {},
   "outputs": [],
   "source": [
    "df=df.drop(columns='Unnamed: 0')"
   ]
  },
  {
   "attachments": {},
   "cell_type": "markdown",
   "metadata": {},
   "source": [
    "**check for duplicates**"
   ]
  },
  {
   "cell_type": "code",
   "execution_count": 24,
   "metadata": {},
   "outputs": [
    {
     "name": "stdout",
     "output_type": "stream",
     "text": [
      "8041\n"
     ]
    }
   ],
   "source": [
    "num_duplicates = df.duplicated().sum()\n",
    "\n",
    "print(num_duplicates)"
   ]
  },
  {
   "attachments": {},
   "cell_type": "markdown",
   "metadata": {},
   "source": [
    "**Making new data frame for non duplicates**"
   ]
  },
  {
   "cell_type": "code",
   "execution_count": 25,
   "metadata": {},
   "outputs": [],
   "source": [
    "df_non_dup = df.drop_duplicates()\n"
   ]
  },
  {
   "attachments": {},
   "cell_type": "markdown",
   "metadata": {},
   "source": [
    "**drop nan values** "
   ]
  },
  {
   "cell_type": "code",
   "execution_count": 26,
   "metadata": {},
   "outputs": [],
   "source": [
    "df_non_dup=df_non_dup.dropna()\n",
    "df_non_dup = df_non_dup.reset_index(drop=True)\n",
    "\n"
   ]
  },
  {
   "cell_type": "code",
   "execution_count": 27,
   "metadata": {},
   "outputs": [
    {
     "data": {
      "text/plain": [
       "Index(['Game', 'User', 'Time', 'Bet Amount', 'Multiplier', 'Payout'], dtype='object')"
      ]
     },
     "execution_count": 27,
     "metadata": {},
     "output_type": "execute_result"
    }
   ],
   "source": [
    "df_non_dup.columns"
   ]
  },
  {
   "cell_type": "code",
   "execution_count": 28,
   "metadata": {},
   "outputs": [
    {
     "data": {
      "text/html": [
       "<div>\n",
       "<style scoped>\n",
       "    .dataframe tbody tr th:only-of-type {\n",
       "        vertical-align: middle;\n",
       "    }\n",
       "\n",
       "    .dataframe tbody tr th {\n",
       "        vertical-align: top;\n",
       "    }\n",
       "\n",
       "    .dataframe thead th {\n",
       "        text-align: right;\n",
       "    }\n",
       "</style>\n",
       "<table border=\"1\" class=\"dataframe\">\n",
       "  <thead>\n",
       "    <tr style=\"text-align: right;\">\n",
       "      <th></th>\n",
       "      <th>Game</th>\n",
       "      <th>User</th>\n",
       "      <th>Time</th>\n",
       "      <th>Bet Amount</th>\n",
       "      <th>Multiplier</th>\n",
       "      <th>Payout</th>\n",
       "    </tr>\n",
       "  </thead>\n",
       "  <tbody>\n",
       "    <tr>\n",
       "      <th>0</th>\n",
       "      <td>Gates of Olympus</td>\n",
       "      <td>Hidden</td>\n",
       "      <td>2:40 PM</td>\n",
       "      <td>0.00147523</td>\n",
       "      <td>406.68×</td>\n",
       "      <td>0.59994835</td>\n",
       "    </tr>\n",
       "    <tr>\n",
       "      <th>1</th>\n",
       "      <td>Limbo</td>\n",
       "      <td>Hidden</td>\n",
       "      <td>2:40 PM</td>\n",
       "      <td>0.80780608</td>\n",
       "      <td>1.42×</td>\n",
       "      <td>1.14708463</td>\n",
       "    </tr>\n",
       "    <tr>\n",
       "      <th>2</th>\n",
       "      <td>Speed Roulette</td>\n",
       "      <td>Hidden</td>\n",
       "      <td>2:40 PM</td>\n",
       "      <td>1000.0</td>\n",
       "      <td>3.42×</td>\n",
       "      <td>3420.0</td>\n",
       "    </tr>\n",
       "    <tr>\n",
       "      <th>3</th>\n",
       "      <td>No Commission Speed Baccarat C</td>\n",
       "      <td>Hidden</td>\n",
       "      <td>2:40 PM</td>\n",
       "      <td>2796.14496</td>\n",
       "      <td>2.00×</td>\n",
       "      <td>5592.28992</td>\n",
       "    </tr>\n",
       "    <tr>\n",
       "      <th>4</th>\n",
       "      <td>Craps</td>\n",
       "      <td>Hidden</td>\n",
       "      <td>2:40 PM</td>\n",
       "      <td>4000.0</td>\n",
       "      <td>0.00×</td>\n",
       "      <td>-4000.0</td>\n",
       "    </tr>\n",
       "    <tr>\n",
       "      <th>...</th>\n",
       "      <td>...</td>\n",
       "      <td>...</td>\n",
       "      <td>...</td>\n",
       "      <td>...</td>\n",
       "      <td>...</td>\n",
       "      <td>...</td>\n",
       "    </tr>\n",
       "    <tr>\n",
       "      <th>1105</th>\n",
       "      <td>Plinko</td>\n",
       "      <td>Hidden</td>\n",
       "      <td>1:59 PM</td>\n",
       "      <td>10.00000000</td>\n",
       "      <td>130.00×</td>\n",
       "      <td>1300.00000000</td>\n",
       "    </tr>\n",
       "    <tr>\n",
       "      <th>1106</th>\n",
       "      <td>Deal or No Deal</td>\n",
       "      <td>Hidden</td>\n",
       "      <td>1:59 PM</td>\n",
       "      <td>492.17684892</td>\n",
       "      <td>4.25×</td>\n",
       "      <td>2089.73549122</td>\n",
       "    </tr>\n",
       "    <tr>\n",
       "      <th>1107</th>\n",
       "      <td>Live - Speed Baccarat 12</td>\n",
       "      <td>Hidden</td>\n",
       "      <td>1:59 PM</td>\n",
       "      <td>2000.00000000</td>\n",
       "      <td>2.00×</td>\n",
       "      <td>4000.00000000</td>\n",
       "    </tr>\n",
       "    <tr>\n",
       "      <th>1108</th>\n",
       "      <td>Wild West Duels</td>\n",
       "      <td>Hidden</td>\n",
       "      <td>1:59 PM</td>\n",
       "      <td>0.32105999</td>\n",
       "      <td>28.75×</td>\n",
       "      <td>9.23047484</td>\n",
       "    </tr>\n",
       "    <tr>\n",
       "      <th>1109</th>\n",
       "      <td>Immersive Roulette</td>\n",
       "      <td>Hidden</td>\n",
       "      <td>1:59 PM</td>\n",
       "      <td>1085.00000000</td>\n",
       "      <td>0.00×</td>\n",
       "      <td>-1085.00000000</td>\n",
       "    </tr>\n",
       "  </tbody>\n",
       "</table>\n",
       "<p>1110 rows × 6 columns</p>\n",
       "</div>"
      ],
      "text/plain": [
       "                                Game    User     Time     Bet Amount  \\\n",
       "0                   Gates of Olympus  Hidden  2:40 PM     0.00147523   \n",
       "1                              Limbo  Hidden  2:40 PM     0.80780608   \n",
       "2                     Speed Roulette  Hidden  2:40 PM         1000.0   \n",
       "3     No Commission Speed Baccarat C  Hidden  2:40 PM     2796.14496   \n",
       "4                              Craps  Hidden  2:40 PM         4000.0   \n",
       "...                              ...     ...      ...            ...   \n",
       "1105                          Plinko  Hidden  1:59 PM    10.00000000   \n",
       "1106                 Deal or No Deal  Hidden  1:59 PM   492.17684892   \n",
       "1107        Live - Speed Baccarat 12  Hidden  1:59 PM  2000.00000000   \n",
       "1108                 Wild West Duels  Hidden  1:59 PM     0.32105999   \n",
       "1109              Immersive Roulette  Hidden  1:59 PM  1085.00000000   \n",
       "\n",
       "     Multiplier          Payout  \n",
       "0       406.68×      0.59994835  \n",
       "1         1.42×      1.14708463  \n",
       "2         3.42×          3420.0  \n",
       "3         2.00×      5592.28992  \n",
       "4         0.00×         -4000.0  \n",
       "...         ...             ...  \n",
       "1105    130.00×   1300.00000000  \n",
       "1106      4.25×   2089.73549122  \n",
       "1107      2.00×   4000.00000000  \n",
       "1108     28.75×      9.23047484  \n",
       "1109      0.00×  -1085.00000000  \n",
       "\n",
       "[1110 rows x 6 columns]"
      ]
     },
     "execution_count": 28,
     "metadata": {},
     "output_type": "execute_result"
    }
   ],
   "source": [
    "df_non_dup"
   ]
  },
  {
   "cell_type": "code",
   "execution_count": null,
   "metadata": {},
   "outputs": [],
   "source": []
  }
 ],
 "metadata": {
  "kernelspec": {
   "display_name": "Python 3",
   "language": "python",
   "name": "python3"
  },
  "language_info": {
   "codemirror_mode": {
    "name": "ipython",
    "version": 3
   },
   "file_extension": ".py",
   "mimetype": "text/x-python",
   "name": "python",
   "nbconvert_exporter": "python",
   "pygments_lexer": "ipython3",
   "version": "3.8.10"
  },
  "orig_nbformat": 4
 },
 "nbformat": 4,
 "nbformat_minor": 2
}
